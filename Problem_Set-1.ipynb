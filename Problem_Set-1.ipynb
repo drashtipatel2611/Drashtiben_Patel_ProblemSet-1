{
 "cells": [
  {
   "cell_type": "markdown",
   "metadata": {},
   "source": [
    "### **Question 1 C#**\n",
    "\n",
    "**What data type is each of the following?**"
   ]
  },
  {
   "cell_type": "code",
   "execution_count": 5,
   "metadata": {
    "dotnet_interactive": {
     "language": "csharp"
    },
    "polyglot_notebook": {
     "kernelName": "csharp"
    },
    "vscode": {
     "languageId": "polyglot-notebook"
    }
   },
   "outputs": [],
   "source": [
    "// 1. Data Type: int (integer)\n",
    "int num = 5;\n",
    "Console.WriteLine($\"1. 5: {num.GetType()}\");\n",
    "\n",
    "// 2. Data Type: double (floating-point number)\n",
    "double numDouble = 5.0;\n",
    "Console.WriteLine($\"2. 5.0: {numDouble.GetType()}\");\n",
    "\n",
    "// 3. Data Type: bool (Boolean)\n",
    "bool comparison = 5 > 1;\n",
    "Console.WriteLine($\"3. 5 > 1: {comparison.GetType()}\");\n",
    "\n",
    "// 4. Data Type: string\n",
    "string str = \"5\";\n",
    "Console.WriteLine($\"4. \\\"5\\\": {str.GetType()}\");\n",
    "\n",
    "// 5. Data Type: int (multiplication between two integers)\n",
    "int multiply = 5 * 2;\n",
    "Console.WriteLine($\"5. 5 * 2: {multiply.GetType()}\");\n",
    "\n",
    "// 6. Invalid operation (\"5\" * 2) - Data Type: Invalid (C# does not allow multiplication between a string and an integer directly)\n",
    "\n",
    "// 7. Data Type: string (this results in string concatenation)\n",
    "string concat = \"5\" + \"2\";\n",
    "Console.WriteLine($\"7. \\\"5\\\" + \\\"2\\\": {concat.GetType()}\");\n",
    "\n",
    "// 8. Data Type: int (integer division)\n",
    "int div = 5 / 2;\n",
    "Console.WriteLine($\"8. 5 / 2: {div.GetType()}\");\n",
    "\n",
    "// 9. Data Type: int (modulo operation)\n",
    "int mod = 5 % 2;\n",
    "Console.WriteLine($\"9. 5 % 2: {mod.GetType()}\");\n",
    "\n",
    "// 10. Data Type: int[] (an array of integers)\n",
    "int[] arr = { 5, 2, 1 };\n",
    "Console.WriteLine($\"10. {{5, 2, 1}}: {arr.GetType()}\");\n",
    "\n",
    "// 11. Data Type: bool (Boolean comparison)\n",
    "bool equal = 5 == 3;\n",
    "Console.WriteLine($\"11. 5 == 3: {equal.GetType()}\");\n",
    "\n",
    "// 12. Data Type: double\n",
    "double pi = Math.PI;\n",
    "Console.WriteLine($\"12. Pi (the number): {pi.GetType()}\");"
   ]
  },
  {
   "cell_type": "markdown",
   "metadata": {},
   "source": [
    "### **Question 2 C#**\n",
    "\n",
    "**Write (and evaluate) C# expressions that answer these questions:**\n"
   ]
  },
  {
   "cell_type": "markdown",
   "metadata": {},
   "source": [
    "\n",
    "a. How many letters are there in 'Supercalifragilisticexpialidocious'?\n"
   ]
  },
  {
   "cell_type": "code",
   "execution_count": 6,
   "metadata": {
    "dotnet_interactive": {
     "language": "csharp"
    },
    "polyglot_notebook": {
     "kernelName": "csharp"
    },
    "vscode": {
     "languageId": "polyglot-notebook"
    }
   },
   "outputs": [],
   "source": [
    "string word = \"Supercalifragilisticexpialidocious\";\n",
    "int count = word.Length;\n",
    "\n",
    "Console.WriteLine($\"Number of letters in 'Supercalifragilisticexpialidocious': {count}\");"
   ]
  },
  {
   "cell_type": "markdown",
   "metadata": {},
   "source": [
    "b. Does 'Supercalifragilisticexpialidocious' contain 'ice' as a substring?"
   ]
  },
  {
   "cell_type": "code",
   "execution_count": 8,
   "metadata": {
    "dotnet_interactive": {
     "language": "csharp"
    },
    "polyglot_notebook": {
     "kernelName": "csharp"
    },
    "vscode": {
     "languageId": "polyglot-notebook"
    }
   },
   "outputs": [],
   "source": [
    "string word = \"Supercalifragilisticexpialidocious\";\n",
    "bool substr = word.Contains(\"ice\");\n",
    "\n",
    "Console.WriteLine($\"Does 'Supercalifragilisticexpialidocious' contain 'ice' or not?: {substr}\");"
   ]
  },
  {
   "cell_type": "markdown",
   "metadata": {},
   "source": [
    "c. Which of the following words is the longest: \n",
    "\n",
    "Supercalifragilisticexpialidocious, Honorificabilitudinitatibus, or \n",
    "Bababadalgharaghtakamminarronnkonn?"
   ]
  },
  {
   "cell_type": "code",
   "execution_count": 9,
   "metadata": {
    "dotnet_interactive": {
     "language": "csharp"
    },
    "polyglot_notebook": {
     "kernelName": "csharp"
    },
    "vscode": {
     "languageId": "polyglot-notebook"
    }
   },
   "outputs": [],
   "source": [
    "string word1 = \"Supercalifragilisticexpialidocious\";\n",
    "string word2 = \"Honorificabilitudinitatibus\";\n",
    "string word3 = \"Bababadalgharaghtakamminarronnkonn\";\n",
    "\n",
    "string longestWord = word1.Length > word2.Length \n",
    "                                ? (word1.Length > word3.Length ? word1 : word3)\n",
    "                                : (word2.Length > word3.Length ? word2 : word3);\n",
    "\n",
    "Console.WriteLine($\"The longest word is: {longestWord}\");"
   ]
  },
  {
   "cell_type": "markdown",
   "metadata": {},
   "source": [
    "d. Which composer comes first and last in the dictionary?"
   ]
  },
  {
   "cell_type": "code",
   "execution_count": 11,
   "metadata": {
    "dotnet_interactive": {
     "language": "csharp"
    },
    "polyglot_notebook": {
     "kernelName": "csharp"
    },
    "vscode": {
     "languageId": "polyglot-notebook"
    }
   },
   "outputs": [],
   "source": [
    "string[] composers = { \"Berlioz\", \"Borodin\", \"Brian\", \"Bartok\", \"Bellini\", \"Buxtehude\", \"Bernstein\"};\n",
    "\n",
    "string first = composers.OrderBy(c => c).First();\n",
    "string last = composers.OrderBy(c => c).Last();\n",
    "\n",
    "Console.WriteLine($\"First composer: {first}\");\n",
    "Console.WriteLine($\"Last composer: {last}\");"
   ]
  },
  {
   "cell_type": "markdown",
   "metadata": {},
   "source": [
    "### **Question 3 C#**\n",
    "\n",
    "Implement function triangleArea(a,b,c) that takes as input the lengths of the 3 \n",
    "sides of a triangle and returns the area of the triangle. By Heron's formula, the area \n",
    "of a triangle with side lengths a, b, and c is s(s − a)(s −b)(s −c), where\n",
    "s = (a + b + c)/2.\n",
    "> triangleArea(2,2,2) --> \n",
    "1.7320508075688772"
   ]
  },
  {
   "cell_type": "code",
   "execution_count": 2,
   "metadata": {
    "dotnet_interactive": {
     "language": "csharp"
    },
    "polyglot_notebook": {
     "kernelName": "csharp"
    },
    "vscode": {
     "languageId": "polyglot-notebook"
    }
   },
   "outputs": [],
   "source": [
    "// Define a function \n",
    "public static double TriangleArea(double a, double b, double c)\n",
    "{\n",
    "    double s = (a + b + c) / 2;\n",
    "\n",
    "    // Heron's formula\n",
    "    double area = Math.Sqrt(s * (s - a) * (s - b) * (s - c));\n",
    "\n",
    "    return area;\n",
    "}"
   ]
  },
  {
   "cell_type": "code",
   "execution_count": 3,
   "metadata": {
    "dotnet_interactive": {
     "language": "csharp"
    },
    "polyglot_notebook": {
     "kernelName": "csharp"
    },
    "vscode": {
     "languageId": "polyglot-notebook"
    }
   },
   "outputs": [],
   "source": [
    "double result = TriangleArea(2, 2, 2);\n",
    "\n",
    "Console.WriteLine($\"Area of triangle is {result}\");"
   ]
  },
  {
   "cell_type": "markdown",
   "metadata": {},
   "source": [
    "### **Question 4 C#**\n",
    "\n",
    "Write a program in C# Sharp to separate odd and even integers in separate arrays. \n",
    "\n",
    "Test Data:\n",
    "Input the number of elements to be stored in the array:5 \n",
    "\n",
    "Input 5 elements in the array :\n",
    "element - 0 : 25\n",
    "element - 1 : 47\n",
    "element - 2 : 42\n",
    "element - 3 : 56\n",
    "element - 4 : 32 \n",
    "\n",
    "Expected Output:\n",
    "\n",
    "The Even elements are: \n",
    "42 56 32\n",
    "\n",
    "The Odd elements are:\n",
    "25 47\n"
   ]
  },
  {
   "cell_type": "code",
   "execution_count": 5,
   "metadata": {
    "dotnet_interactive": {
     "language": "csharp"
    },
    "polyglot_notebook": {
     "kernelName": "csharp"
    },
    "vscode": {
     "languageId": "polyglot-notebook"
    }
   },
   "outputs": [],
   "source": [
    "// Define a function\n",
    "public static void SeparateOddEven(int[] numbers)\n",
    "{\n",
    "    var evenNum = new List<int>();\n",
    "    var oddNum = new List<int>();\n",
    "\n",
    "    // Loop that separate Even and odd numbers\n",
    "    foreach (var number in numbers)\n",
    "    {\n",
    "        if (number % 2 == 0)\n",
    "        {\n",
    "            evenNum.Add(number);\n",
    "        }\n",
    "        else\n",
    "        {\n",
    "            oddNum.Add(number);\n",
    "        }\n",
    "    }\n",
    "\n",
    "    Console.WriteLine(\"The Even elements are:\");\n",
    "    foreach (var even in evenNum)\n",
    "    {\n",
    "        Console.Write(even + \" \");\n",
    "    }\n",
    "\n",
    "    Console.WriteLine(\"\\nThe Odd elements are:\");\n",
    "    foreach (var odd in oddNum)\n",
    "    {\n",
    "        Console.Write(odd + \" \");\n",
    "    }\n",
    "}"
   ]
  },
  {
   "cell_type": "code",
   "execution_count": 6,
   "metadata": {
    "dotnet_interactive": {
     "language": "csharp"
    },
    "polyglot_notebook": {
     "kernelName": "csharp"
    },
    "vscode": {
     "languageId": "polyglot-notebook"
    }
   },
   "outputs": [],
   "source": [
    "int[] numbers = { 25, 47, 42, 56, 32 };\n",
    "\n",
    "SeparateOddEven(numbers);"
   ]
  },
  {
   "cell_type": "markdown",
   "metadata": {},
   "source": [
    "### **Question 5 C#**\n",
    "\n",
    "a. Write a function inside(x,y,x1,y1,x2,y2) that returns True or False \n",
    "depend ing on whether the point(x,y) lies in the rectangle with lower left \n",
    "corner (x1,y1) and upper right corner (x2,y2).\n",
    "> inside(1,1,0,0,2,3)\n",
    "\n",
    "True\n",
    "\n",
    "> inside(-1,-1,0,0,2,3)\n",
    "\n",
    "False\n"
   ]
  },
  {
   "cell_type": "code",
   "execution_count": 7,
   "metadata": {
    "dotnet_interactive": {
     "language": "csharp"
    },
    "polyglot_notebook": {
     "kernelName": "csharp"
    },
    "vscode": {
     "languageId": "polyglot-notebook"
    }
   },
   "outputs": [],
   "source": [
    "// Define a function\n",
    "public static bool Inside(double x, double y, double x1, double y1, double x2, double y2)\n",
    "{\n",
    "    // Check if the point is inside the rectangle or not\n",
    "    return (x >= x1 && x <= x2 && y >= y1 && y <= y2);\n",
    "}"
   ]
  },
  {
   "cell_type": "code",
   "execution_count": 10,
   "metadata": {
    "dotnet_interactive": {
     "language": "csharp"
    },
    "polyglot_notebook": {
     "kernelName": "csharp"
    },
    "vscode": {
     "languageId": "polyglot-notebook"
    }
   },
   "outputs": [],
   "source": [
    "Console.WriteLine($\"Whether points (1, 1, 0, 0, 2, 3) is inside the rectangle or not: {Inside(1, 1, 0, 0, 2, 3)}\");  \n",
    "Console.WriteLine($\"Whether points (-1, -1, 0, 0, 2, 3) is inside the rectangle or not: {Inside(-1, -1, 0, 0, 2, 3)}\");  "
   ]
  },
  {
   "cell_type": "markdown",
   "metadata": {},
   "source": [
    "b. Use function inside()from part a. to write an expression that tests whether \n",
    "the point (1,1) lies in both of the following rectangles: one with lower left \n",
    "corner (0.3, 0.5) and upper right corner (1.1, 0.7) and the other with lower \n",
    "left corner (0.5, 0.2) and upper right corner (1.1, 2)."
   ]
  },
  {
   "cell_type": "code",
   "execution_count": 11,
   "metadata": {
    "dotnet_interactive": {
     "language": "csharp"
    },
    "polyglot_notebook": {
     "kernelName": "csharp"
    },
    "vscode": {
     "languageId": "polyglot-notebook"
    }
   },
   "outputs": [],
   "source": [
    "// Check if (1,1) lies inside both rectangles \n",
    "bool isInFirstRectangle = Inside(1, 1, 0.3, 0.5, 1.1, 0.7);\n",
    "bool isInSecondRectangle = Inside(1, 1, 0.5, 0.2, 1.1, 2);"
   ]
  },
  {
   "cell_type": "code",
   "execution_count": 13,
   "metadata": {
    "dotnet_interactive": {
     "language": "csharp"
    },
    "polyglot_notebook": {
     "kernelName": "csharp"
    },
    "vscode": {
     "languageId": "polyglot-notebook"
    }
   },
   "outputs": [],
   "source": [
    "Console.WriteLine($\"Is the point (1,1) inside both rectangles?: {isInFirstRectangle && isInSecondRectangle}\"); "
   ]
  },
  {
   "cell_type": "code",
   "execution_count": null,
   "metadata": {
    "dotnet_interactive": {
     "language": "csharp"
    },
    "polyglot_notebook": {
     "kernelName": "csharp"
    },
    "vscode": {
     "languageId": "polyglot-notebook"
    }
   },
   "outputs": [],
   "source": []
  },
  {
   "cell_type": "markdown",
   "metadata": {},
   "source": [
    "### **Question 6 Python**\n",
    "\n",
    "You can turn a word into pig-Latin using the following two rules(simplified):\n",
    "\n",
    "• If the word starts with a consonant, move that letter to the end and append \n",
    "'ay'. For example, 'happy' becomes 'appyhay' and 'pencil' becomes 'encilpay'.\n",
    "• If the word starts with a vowel, simply append 'way' to the end of the word. \n",
    "\n",
    "For example, 'enter' becomes 'enterway' and 'other' becomes 'otherway' . For \n",
    "our purposes, there are 5 vowels: a, e, i, o, u (so we count y as a consonant).\n",
    "\n",
    "Write a function pig() that takes a word (i.e., a string) as input and returns its pig Latin form. Your function should still work if the input word contains upper case \n",
    "characters. Your output should always be lower case however."
   ]
  },
  {
   "cell_type": "code",
   "execution_count": 1,
   "metadata": {
    "dotnet_interactive": {
     "language": "csharp"
    },
    "polyglot_notebook": {
     "kernelName": "csharp"
    },
    "vscode": {
     "languageId": "polyglot-notebook"
    }
   },
   "outputs": [],
   "source": [
    "## Define a function\n",
    "def pig(word):\n",
    "\n",
    "    # Convert the word to lowercase\n",
    "    word = word.lower()\n",
    "    \n",
    "    vowels = 'aeiou'\n",
    "    \n",
    "    # Check if the first letter is a vowel\n",
    "    if word[0] in vowels:\n",
    "        return word + 'way'\n",
    "    else:\n",
    "        return word[1:] + word[0] + 'ay'"
   ]
  },
  {
   "cell_type": "code",
   "execution_count": 4,
   "metadata": {
    "dotnet_interactive": {
     "language": "csharp"
    },
    "polyglot_notebook": {
     "kernelName": "csharp"
    },
    "vscode": {
     "languageId": "polyglot-notebook"
    }
   },
   "outputs": [],
   "source": [
    "print(f\"pig-Latin for word 'Happy' --> {pig('Happy')}\")   \n",
    "print(f\"pig-Latin for word 'Enter' --> {pig('Enter')}\")"
   ]
  },
  {
   "cell_type": "markdown",
   "metadata": {},
   "source": [
    "### **Question 7 Python**\n",
    "File bloodtype1.txt records blood-types of patients (A, B, AB, O or OO) at a clinic. \n",
    "\n",
    "Write a function bldcount() that reads the file with name name and reports (i.e., \n",
    "prints) how many patients there are in each bloodtype.\n",
    "\n",
    "> bldcount('bloodtype.txt')\n",
    "\n",
    "There are 10 patients of blood type A.      \n",
    "There is one patient of blood type B.       \n",
    "There are 10 patients of blood type AB.         \n",
    "There are 12 patients of blood type O.      \n",
    "There are no patients of blood type OO. "
   ]
  },
  {
   "cell_type": "code",
   "execution_count": 19,
   "metadata": {
    "dotnet_interactive": {
     "language": "csharp"
    },
    "polyglot_notebook": {
     "kernelName": "csharp"
    },
    "vscode": {
     "languageId": "polyglot-notebook"
    }
   },
   "outputs": [],
   "source": [
    "def bldcount(filename):\n",
    "    # Open the file and read its contents\n",
    "    with open(filename, 'r') as file:\n",
    "        # Read all the blood types into a list\n",
    "        blood_types = file.read().split()\n",
    "    \n",
    "    # Define the possible blood types\n",
    "    types = ['A', 'B', 'AB', 'O', 'OO']\n",
    "    \n",
    "    # Count the number of patients with each blood type\n",
    "    for blood_type in types:\n",
    "        count = blood_types.count(blood_type)\n",
    "        \n",
    "        # Print the result based on the count\n",
    "        if count == 0:\n",
    "            print(f\"There are no patients of blood type {blood_type}.\")\n",
    "        elif count == 1:\n",
    "            print(f\"There is one patient of blood type {blood_type}.\")\n",
    "        else:\n",
    "            print(f\"There are {count} patients of blood type {blood_type}.\")\n",
    "\n",
    "# Test the function\n",
    "bldcount('bloodtype1.txt')"
   ]
  },
  {
   "cell_type": "markdown",
   "metadata": {},
   "source": [
    "### **Question 8 Python**\n",
    "\n",
    "Write a function curconv() that takes as input:\n",
    "1. a currency represented using a string (e.g., 'JPY' for the Japanese Yen or \n",
    "'EUR' for the Euro)\n",
    "2. an amount\n",
    "and then converts and returns the amount in US dollars.\n",
    "\n",
    "> curconv('EUR', 100) --> \n",
    "122.96544\n",
    "\n",
    "> curconv('JPY', 100) --> \n",
    "1.241401\n"
   ]
  },
  {
   "cell_type": "code",
   "execution_count": 11,
   "metadata": {
    "dotnet_interactive": {
     "language": "csharp"
    },
    "polyglot_notebook": {
     "kernelName": "csharp"
    },
    "vscode": {
     "languageId": "polyglot-notebook"
    }
   },
   "outputs": [],
   "source": [
    "def curconv(currency, amount):\n",
    "    \n",
    "    with open('currencies.txt', 'r') as file:\n",
    "        \n",
    "        # Read each line and extract the currency code and exchange rate\n",
    "        for line in file:\n",
    "            data = line.split()\n",
    "\n",
    "            if data[0] == currency:\n",
    "                exchange_rate = float(data[1])\n",
    "                return amount * exchange_rate\n",
    "\n",
    "    # If Currency is not found, return not found message\n",
    "    return \"Currency not found.\""
   ]
  },
  {
   "cell_type": "code",
   "execution_count": 12,
   "metadata": {
    "dotnet_interactive": {
     "language": "csharp"
    },
    "polyglot_notebook": {
     "kernelName": "csharp"
    },
    "vscode": {
     "languageId": "polyglot-notebook"
    }
   },
   "outputs": [],
   "source": [
    "print(f\"{curconv('EUR', 100)}\") \n",
    "print(f\"{curconv('JPY', 100)}\") "
   ]
  },
  {
   "cell_type": "markdown",
   "metadata": {},
   "source": [
    "### **Question 9 Python**\n",
    "Each of the following will cause an exception (an error). Identify what type of \n",
    "exception each will cause.\n",
    "\n",
    "Trying to add incompatible variables, as in \n",
    "adding 6 + ‘a’\n",
    "\n",
    "Referring to the 12th item of a list that has only 10 \n",
    "items\n",
    "\n",
    "Using a value that is out of range for a function’s  \n",
    "input, such as calling math.sqrt(-1.0)\n",
    "\n",
    "Using an undeclared variable, such as print(x)\n",
    "when x has not been defined\n",
    "\n",
    "Trying to open a file that does not exist, such as \n",
    "mistyping the file name or looking in the wrong \n",
    "directory."
   ]
  },
  {
   "cell_type": "code",
   "execution_count": 13,
   "metadata": {
    "dotnet_interactive": {
     "language": "csharp"
    },
    "polyglot_notebook": {
     "kernelName": "csharp"
    },
    "vscode": {
     "languageId": "polyglot-notebook"
    }
   },
   "outputs": [],
   "source": [
    "# 1. Trying to add incompatible variables (6 + 'a')\n",
    "try:\n",
    "    result = 6 + 'a'\n",
    "except TypeError as e:\n",
    "    print(f\"Exception: {e} (TypeError)\")\n",
    "\n",
    "# 2. Referring to the 12th item of a list that has only 10 items\n",
    "try:\n",
    "    my_list = [1, 2, 3, 4, 5, 6, 7, 8, 9, 10]\n",
    "    print(my_list[11])\n",
    "except IndexError as e:\n",
    "    print(f\"Exception: {e} (IndexError)\")\n",
    "\n",
    "# 3. Using a value that is out of range for a function’s input (math.sqrt(-1.0))\n",
    "import math\n",
    "try:\n",
    "    result = math.sqrt(-1.0)\n",
    "except ValueError as e:\n",
    "    print(f\"Exception: {e} (ValueError)\")\n",
    "\n",
    "# 4. Using an undeclared variable (print(x) when x has not been defined)\n",
    "try:\n",
    "    print(x)  \n",
    "except NameError as e:\n",
    "    print(f\"Exception: {e} (NameError)\")\n",
    "\n",
    "# 5. Trying to open a file that does not exist\n",
    "try:\n",
    "    with open('non_existent_file.txt', 'r') as file:\n",
    "        content = file.read()\n",
    "except FileNotFoundError as e:\n",
    "    print(f\"Exception: {e} (FileNotFoundError)\")"
   ]
  },
  {
   "cell_type": "markdown",
   "metadata": {},
   "source": [
    "### **Question 10 Python**\n",
    "\n",
    "Encryption is the process of hiding the meaning of a text by substituting letters in the \n",
    "message with other letters, according to some system. If the process is successful, no \n",
    "one but the intended recipient can understand the encrypted message. Cryptanalysis \n",
    "refers to attempts to undo the encryption, even if some details of the encryption are \n",
    "unknown (for example, if an encrypted message has been intercepted). The first step \n",
    "of cryptanalysis is often to build up a table of letter frequencies in the encrypted text. \n",
    "Assume that the string letters is already defined as \n",
    "'abcdefghijklmnopqrstuvwxyz'. \n",
    "\n",
    "Write a function called frequencies() \n",
    "that takes a string as its only parameter, and returns a list of integers, showing the \n",
    "number of times each character appears in the text. Your function may ignore any \n",
    "characters that are not in letters.\n",
    "> frequencies('The quick red fox got bored and went home.') \n",
    "\n",
    "[1, 1, 1, 3, 5, 1, 1, 2, 1, 0, 1, 0, 1, 2, 4, 0, 1, 2, 0, 2,\n",
    "1, 0, 1, 1, 0, 0]\n",
    "\n",
    "> frequencies('apple')"
   ]
  },
  {
   "cell_type": "code",
   "execution_count": 17,
   "metadata": {
    "dotnet_interactive": {
     "language": "csharp"
    },
    "polyglot_notebook": {
     "kernelName": "csharp"
    },
    "vscode": {
     "languageId": "polyglot-notebook"
    }
   },
   "outputs": [],
   "source": [
    "def frequencies(text):\n",
    "    \n",
    "    letters = 'abcdefghijklmnopqrstuvwxyz'\n",
    "    \n",
    "    # Initialize a list for each letter that counts frequency.\n",
    "    freq_list = [0] * 26\n",
    "    \n",
    "    text = text.lower()\n",
    "    \n",
    "    for char in text:\n",
    "        if char in letters:\n",
    "            index = letters.index(char)\n",
    "            freq_list[index] += 1\n",
    "            \n",
    "    return freq_list"
   ]
  },
  {
   "cell_type": "code",
   "execution_count": 18,
   "metadata": {
    "dotnet_interactive": {
     "language": "csharp"
    },
    "polyglot_notebook": {
     "kernelName": "csharp"
    },
    "vscode": {
     "languageId": "polyglot-notebook"
    }
   },
   "outputs": [],
   "source": [
    "print(f\"Frequencies for text 'The quick red fox got bored and went home.' --> {frequencies('The quick red fox got bored and went home.')}\")  \n",
    "print(f\"Frequencies for text 'apple' --> {frequencies('apple')}\")  "
   ]
  },
  {
   "cell_type": "code",
   "execution_count": null,
   "metadata": {
    "dotnet_interactive": {
     "language": "csharp"
    },
    "polyglot_notebook": {
     "kernelName": "csharp"
    },
    "vscode": {
     "languageId": "polyglot-notebook"
    }
   },
   "outputs": [],
   "source": []
  }
 ],
 "metadata": {
  "kernelspec": {
   "display_name": "base",
   "language": "python",
   "name": "python3"
  },
  "language_info": {
   "codemirror_mode": {
    "name": "ipython",
    "version": 3
   },
   "file_extension": ".py",
   "mimetype": "text/x-python",
   "name": "python",
   "nbconvert_exporter": "python",
   "pygments_lexer": "ipython3",
   "version": "3.10.9"
  },
  "polyglot_notebook": {
   "kernelInfo": {
    "defaultKernelName": "csharp",
    "items": [
     {
      "aliases": [],
      "name": "csharp"
     }
    ]
   }
  }
 },
 "nbformat": 4,
 "nbformat_minor": 2
}
